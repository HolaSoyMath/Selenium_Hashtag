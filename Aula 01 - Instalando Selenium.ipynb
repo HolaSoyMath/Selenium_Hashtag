{
 "cells": [
  {
   "cell_type": "code",
   "execution_count": 1,
   "id": "6ae92d38",
   "metadata": {},
   "outputs": [],
   "source": [
    "from selenium import webdriver ## Importar o webdriver \n",
    "from selenium.webdriver.chrome.service import Service ## Importar o serviço que indicar o caminho do webdriver\n",
    "from webdriver_manager.chrome import ChromeDriverManager ## Importar a bilbioteca que realiza a atualização automatica do webdriver"
   ]
  },
  {
   "cell_type": "code",
   "execution_count": 2,
   "id": "1962eb00",
   "metadata": {},
   "outputs": [
    {
     "name": "stdout",
     "output_type": "stream",
     "text": [
      "\n"
     ]
    },
    {
     "name": "stderr",
     "output_type": "stream",
     "text": [
      "[WDM] - ====== WebDriver manager ======\n",
      "[WDM] - Current google-chrome version is 103.0.5060\n",
      "[WDM] - Get LATEST chromedriver version for 103.0.5060 google-chrome\n",
      "[WDM] - There is no [win32] chromedriver for browser 103.0.5060 in cache\n",
      "[WDM] - About to download new driver from https://chromedriver.storage.googleapis.com/103.0.5060.53/chromedriver_win32.zip\n",
      "[WDM] - Driver has been saved in cache [C:\\Users\\theog\\.wdm\\drivers\\chromedriver\\win32\\103.0.5060.53]\n"
     ]
    }
   ],
   "source": [
    "servico = Service(ChromeDriverManager().install()) # Instalar um WebDriver provisório com a versão mais recente\n",
    "driver = webdriver.Chrome(service=servico) # Iniciar o driver baixado provisoriamente"
   ]
  },
  {
   "cell_type": "code",
   "execution_count": null,
   "id": "4d05e0ab",
   "metadata": {},
   "outputs": [],
   "source": []
  }
 ],
 "metadata": {
  "kernelspec": {
   "display_name": "Python 3 (ipykernel)",
   "language": "python",
   "name": "python3"
  },
  "language_info": {
   "codemirror_mode": {
    "name": "ipython",
    "version": 3
   },
   "file_extension": ".py",
   "mimetype": "text/x-python",
   "name": "python",
   "nbconvert_exporter": "python",
   "pygments_lexer": "ipython3",
   "version": "3.9.8"
  }
 },
 "nbformat": 4,
 "nbformat_minor": 5
}
