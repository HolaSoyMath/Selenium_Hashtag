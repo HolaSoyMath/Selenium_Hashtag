{
 "cells": [
  {
   "cell_type": "code",
   "execution_count": 1,
   "id": "76808cf5",
   "metadata": {},
   "outputs": [
    {
     "name": "stdout",
     "output_type": "stream",
     "text": [
      "\n"
     ]
    },
    {
     "name": "stderr",
     "output_type": "stream",
     "text": [
      "[WDM] - ====== WebDriver manager ======\n",
      "[WDM] - Current google-chrome version is 103.0.5060\n",
      "[WDM] - Get LATEST chromedriver version for 103.0.5060 google-chrome\n",
      "[WDM] - Driver [C:\\Users\\theog\\.wdm\\drivers\\chromedriver\\win32\\103.0.5060.53\\chromedriver.exe] found in cache\n"
     ]
    }
   ],
   "source": [
    "from selenium import webdriver\n",
    "from selenium.webdriver.chrome.service import Service\n",
    "from webdriver_manager.chrome import ChromeDriverManager\n",
    "from selenium.webdriver.common.by import By\n",
    "\n",
    "servico = Service(ChromeDriverManager().install())\n",
    "driver = webdriver.Chrome(service=servico)"
   ]
  },
  {
   "cell_type": "code",
   "execution_count": 2,
   "id": "20c429b3",
   "metadata": {},
   "outputs": [],
   "source": [
    "driver.get(r'https://www.hashtagtreinamentos.com/')"
   ]
  },
  {
   "cell_type": "code",
   "execution_count": 5,
   "id": "d5acd771",
   "metadata": {},
   "outputs": [],
   "source": [
    "## Identificar um elemento na página pela Classe\n",
    "driver.find_element(By.CLASS_NAME, 'custom-logo').click()"
   ]
  },
  {
   "cell_type": "code",
   "execution_count": 6,
   "id": "babbc511",
   "metadata": {},
   "outputs": [],
   "source": [
    "## Identificar um elemento na página pelo XPATH\n",
    "driver.find_element(By.XPATH, '//*[@id=\"header\"]/div/div/div[1]/a/img').click()"
   ]
  },
  {
   "cell_type": "code",
   "execution_count": 4,
   "id": "71979728",
   "metadata": {},
   "outputs": [
    {
     "name": "stdout",
     "output_type": "stream",
     "text": [
      "Torne-se uma referência no Mercado de Trabalho com a Hashtag Treinamentos\n"
     ]
    }
   ],
   "source": [
    "## Identificar um elemento pela TAG\n",
    "titulo = driver.find_element(By.TAG_NAME, 'h1').text\n",
    "print(titulo)"
   ]
  },
  {
   "cell_type": "code",
   "execution_count": 10,
   "id": "4a4ea078",
   "metadata": {},
   "outputs": [
    {
     "name": "stdout",
     "output_type": "stream",
     "text": [
      "(21) 99865-8852 (WhatsApp)\n"
     ]
    }
   ],
   "source": [
    "## Identificar um elemento através de um LINK\n",
    "## OBS: Esse método só funciona se a palavra estiver em um link da página\n",
    "## OBS2: A palavra procurada deve ser exatamente igual a que está escrita no site, diferenciando maiusculas e minusculas\n",
    "numero_whatsapp = driver.find_element(By.PARTIAL_LINK_TEXT, 'WhatsApp').text\n",
    "print(numero_whatsapp)"
   ]
  },
  {
   "cell_type": "code",
   "execution_count": 11,
   "id": "0c8ab1cb",
   "metadata": {},
   "outputs": [],
   "source": [
    "## Identificar pelo NAME\n",
    "driver.find_element(By.NAME, 'email').send_keys('email@email.com')"
   ]
  }
 ],
 "metadata": {
  "kernelspec": {
   "display_name": "Python 3 (ipykernel)",
   "language": "python",
   "name": "python3"
  },
  "language_info": {
   "codemirror_mode": {
    "name": "ipython",
    "version": 3
   },
   "file_extension": ".py",
   "mimetype": "text/x-python",
   "name": "python",
   "nbconvert_exporter": "python",
   "pygments_lexer": "ipython3",
   "version": "3.8.8"
  }
 },
 "nbformat": 4,
 "nbformat_minor": 5
}
