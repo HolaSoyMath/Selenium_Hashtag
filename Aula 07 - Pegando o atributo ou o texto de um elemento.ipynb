{
 "cells": [
  {
   "cell_type": "code",
   "execution_count": 1,
   "id": "76808cf5",
   "metadata": {},
   "outputs": [
    {
     "name": "stdout",
     "output_type": "stream",
     "text": [
      "\n"
     ]
    },
    {
     "name": "stderr",
     "output_type": "stream",
     "text": [
      "[WDM] - ====== WebDriver manager ======\n",
      "[WDM] - Current google-chrome version is 103.0.5060\n",
      "[WDM] - Get LATEST chromedriver version for 103.0.5060 google-chrome\n",
      "[WDM] - Driver [C:\\Users\\theog\\.wdm\\drivers\\chromedriver\\win32\\103.0.5060.53\\chromedriver.exe] found in cache\n"
     ]
    }
   ],
   "source": [
    "from selenium import webdriver\n",
    "from selenium.webdriver.chrome.service import Service\n",
    "from webdriver_manager.chrome import ChromeDriverManager\n",
    "from selenium.webdriver.common.by import By\n",
    "\n",
    "servico = Service(ChromeDriverManager().install())\n",
    "driver = webdriver.Chrome(service=servico)"
   ]
  },
  {
   "cell_type": "code",
   "execution_count": 5,
   "id": "20c429b3",
   "metadata": {},
   "outputs": [],
   "source": [
    "driver.get(r'https://www.hashtagtreinamentos.com/')"
   ]
  },
  {
   "cell_type": "code",
   "execution_count": 7,
   "id": "57b43e1c",
   "metadata": {},
   "outputs": [
    {
     "name": "stdout",
     "output_type": "stream",
     "text": [
      "https://api.whatsapp.com/send?phone=5521998658852&text=Ol%C3%A1%2C%20gostaria%20de%20tirar%20uma%20d%C3%BAvida%20%20sobre%20o%20curso%20online\n"
     ]
    }
   ],
   "source": [
    "## Pegar informações de um elemento:\n",
    "## ATRIBUTO: Link do Whatsapp\n",
    "link = driver.find_element(By.XPATH, '/html/body/div[1]/footer/div/div/div[1]/div[2]/div[5]/div[2]/a').get_attribute('href')\n",
    "print(link)"
   ]
  },
  {
   "cell_type": "code",
   "execution_count": 8,
   "id": "397c77cf",
   "metadata": {},
   "outputs": [],
   "source": [
    "driver.get(r'file:///C:/Users/theog/Downloads/Pagina%20Hashtag.html')"
   ]
  },
  {
   "cell_type": "code",
   "execution_count": 10,
   "id": "5f0374d3",
   "metadata": {},
   "outputs": [
    {
     "name": "stdout",
     "output_type": "stream",
     "text": [
      "https://www.hashtagtreinamentos.com/curso-de-excel-online\n"
     ]
    }
   ],
   "source": [
    "## ATRIBUTO: Link do curso de Excel\n",
    "## OBS: O link está logo acima da linha onde foi escrita a imagem\n",
    "link2 = driver.find_element(By.XPATH, '/html/body/section[2]/div/div[4]/figure/a').get_attribute('href')\n",
    "print(link2)"
   ]
  }
 ],
 "metadata": {
  "kernelspec": {
   "display_name": "Python 3 (ipykernel)",
   "language": "python",
   "name": "python3"
  },
  "language_info": {
   "codemirror_mode": {
    "name": "ipython",
    "version": 3
   },
   "file_extension": ".py",
   "mimetype": "text/x-python",
   "name": "python",
   "nbconvert_exporter": "python",
   "pygments_lexer": "ipython3",
   "version": "3.8.8"
  }
 },
 "nbformat": 4,
 "nbformat_minor": 5
}
