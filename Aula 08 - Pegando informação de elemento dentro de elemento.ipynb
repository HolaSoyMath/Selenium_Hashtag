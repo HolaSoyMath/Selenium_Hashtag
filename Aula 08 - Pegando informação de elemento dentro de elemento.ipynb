{
 "cells": [
  {
   "cell_type": "code",
   "execution_count": 1,
   "id": "76808cf5",
   "metadata": {},
   "outputs": [
    {
     "name": "stdout",
     "output_type": "stream",
     "text": [
      "\n"
     ]
    },
    {
     "name": "stderr",
     "output_type": "stream",
     "text": [
      "[WDM] - ====== WebDriver manager ======\n",
      "[WDM] - Current google-chrome version is 103.0.5060\n",
      "[WDM] - Get LATEST chromedriver version for 103.0.5060 google-chrome\n",
      "[WDM] - Driver [C:\\Users\\theog\\.wdm\\drivers\\chromedriver\\win32\\103.0.5060.53\\chromedriver.exe] found in cache\n"
     ]
    }
   ],
   "source": [
    "from selenium import webdriver\n",
    "from selenium.webdriver.chrome.service import Service\n",
    "from webdriver_manager.chrome import ChromeDriverManager\n",
    "from selenium.webdriver.common.by import By\n",
    "\n",
    "servico = Service(ChromeDriverManager().install())\n",
    "driver = webdriver.Chrome(service=servico)"
   ]
  },
  {
   "cell_type": "code",
   "execution_count": 2,
   "id": "397c77cf",
   "metadata": {},
   "outputs": [],
   "source": [
    "driver.get(r'file:///C:/Users/theog/Downloads/Pagina%20Hashtag.html')"
   ]
  },
  {
   "cell_type": "code",
   "execution_count": 3,
   "id": "035573e2",
   "metadata": {},
   "outputs": [],
   "source": [
    "## PEGAR TODOS OS LINKS DAS IMAGENS"
   ]
  },
  {
   "cell_type": "code",
   "execution_count": 7,
   "id": "c459782f",
   "metadata": {},
   "outputs": [
    {
     "name": "stdout",
     "output_type": "stream",
     "text": [
      "6\n",
      "https://www.hashtagtreinamentos.com/curso-de-excel-online\n",
      "https://www.hashtagtreinamentos.com/curso-power-bi\n",
      "https://www.hashtagtreinamentos.com/curso-python\n",
      "https://www.hashtagtreinamentos.com/curso-sql\n",
      "https://www.hashtagtreinamentos.com/curso-vba-excel\n"
     ]
    }
   ],
   "source": [
    "## Criar uma lista com todos os elementos da TAG figure, com essa lista\n",
    "## teremos entao varias \"pastas\", logo após, poderemos encontrar itens mais\n",
    "## específicos em cada pasta.\n",
    "lista_elementos = driver.find_elements(By.TAG_NAME, 'figure')\n",
    "print(len(lista_elementos))\n",
    "\n",
    "# Para cada elemento (pasta) encontrado, encontrar uma tag dentro dela (a)\n",
    "# e coletar a informação do atributo href\n",
    "for elemento in lista_elementos:\n",
    "    try:\n",
    "        link = elemento.find_element(By.TAG_NAME, 'a').get_attribute('href')\n",
    "        print(link)\n",
    "    except:\n",
    "        continue"
   ]
  }
 ],
 "metadata": {
  "kernelspec": {
   "display_name": "Python 3 (ipykernel)",
   "language": "python",
   "name": "python3"
  },
  "language_info": {
   "codemirror_mode": {
    "name": "ipython",
    "version": 3
   },
   "file_extension": ".py",
   "mimetype": "text/x-python",
   "name": "python",
   "nbconvert_exporter": "python",
   "pygments_lexer": "ipython3",
   "version": "3.8.8"
  }
 },
 "nbformat": 4,
 "nbformat_minor": 5
}
