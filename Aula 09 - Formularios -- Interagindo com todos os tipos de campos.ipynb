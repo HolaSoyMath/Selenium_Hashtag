{
 "cells": [
  {
   "cell_type": "code",
   "execution_count": 1,
   "id": "76808cf5",
   "metadata": {},
   "outputs": [],
   "source": [
    "############## CASA\n",
    "from selenium import webdriver\n",
    "from selenium.webdriver.chrome.service import Service\n",
    "from webdriver_manager.chrome import ChromeDriverManager\n",
    "from selenium.webdriver.common.by import By\n",
    "\n",
    "# servico = Service(ChromeDriverManager().install())\n",
    "# driver = webdriver.Chrome(service=servico)"
   ]
  },
  {
   "cell_type": "code",
   "execution_count": 2,
   "id": "cc02ad1d",
   "metadata": {},
   "outputs": [
    {
     "name": "stderr",
     "output_type": "stream",
     "text": [
      "C:\\Users\\pm19020\\AppData\\Local\\Temp/ipykernel_11892/2551466703.py:7: DeprecationWarning: executable_path has been deprecated, please pass in a Service object\n",
      "  driver = webdriver.Chrome(executable_path=arquivo)\n"
     ]
    }
   ],
   "source": [
    "############# TRAMPO\n",
    "from selenium import webdriver\n",
    "from selenium.webdriver.common.by import By\n",
    "\n",
    "arquivo = r'C:\\Users\\pm19020\\AppData\\Local\\SeleniumBasic\\chromedriver.exe'\n",
    "\n",
    "driver = webdriver.Chrome(executable_path=arquivo)"
   ]
  },
  {
   "cell_type": "code",
   "execution_count": 3,
   "id": "397c77cf",
   "metadata": {},
   "outputs": [],
   "source": [
    "import os\n",
    "\n",
    "caminho = os.getcwd()\n",
    "arquivo = caminho + r'\\formulario.html'\n",
    "\n",
    "driver.get(arquivo)"
   ]
  },
  {
   "cell_type": "code",
   "execution_count": 4,
   "id": "681f3d1c",
   "metadata": {},
   "outputs": [],
   "source": [
    "#### Botão padrao, clicar em um botao normalzao)\n",
    "driver.find_element(By.XPATH, '/html/body/form/input[1]').click()"
   ]
  },
  {
   "cell_type": "code",
   "execution_count": 5,
   "id": "26beca47",
   "metadata": {},
   "outputs": [],
   "source": [
    "#### Clicar em um pop-up com Selenium\n",
    "alerta = driver.switch_to.alert\n",
    "alerta.accept() ## Aceitar o Pop-UP\n",
    "# alerta.dissmiss() ## Recusar o Pop-UP"
   ]
  },
  {
   "cell_type": "markdown",
   "id": "81eddadf",
   "metadata": {},
   "source": [
    "## Recolher os dados de algum campo, podemos utilizar alguns métodos como:<br>\n",
    ".text<br>\n",
    ".get_attribute('value')<br>\n",
    ".is_selected"
   ]
  },
  {
   "cell_type": "code",
   "execution_count": 6,
   "id": "d99ad618",
   "metadata": {},
   "outputs": [
    {
     "name": "stdout",
     "output_type": "stream",
     "text": [
      "True\n"
     ]
    }
   ],
   "source": [
    "#### Interagir com uma Checkbox\n",
    "## Clicar no botão\n",
    "driver.find_element(By.XPATH, '/html/body/form/input[3]').click()\n",
    "\n",
    "## Verificar o valor do botão, se esta selecionado ou não\n",
    "valor = driver.find_element(By.XPATH, '/html/body/form/input[3]').is_selected()\n",
    "print(valor)"
   ]
  },
  {
   "cell_type": "code",
   "execution_count": 7,
   "id": "21e8e0a7",
   "metadata": {},
   "outputs": [],
   "source": [
    "#### Interagir com um botão de seleção de cores\n",
    "## Preencher com um cor específica\n",
    "## OBS: Caso a cor esteja em RGB, usar um site que converte a cor para Hex\n",
    "driver.find_element(By.XPATH, '/html/body/form/input[4]').send_keys('#DA1010') ## Cor em Hex\n",
    "driver.find_element(By.XPATH, '/html/body/form/input[5]').send_keys('#2143E8')"
   ]
  },
  {
   "cell_type": "code",
   "execution_count": 8,
   "id": "cf189e22",
   "metadata": {},
   "outputs": [
    {
     "name": "stdout",
     "output_type": "stream",
     "text": [
      "#da1010\n"
     ]
    }
   ],
   "source": [
    "## Obter qual o código da cor atualmente selecionada\n",
    "valor = driver.find_element(By.XPATH, '/html/body/form/input[4]').get_attribute('value')\n",
    "print(valor)"
   ]
  },
  {
   "cell_type": "code",
   "execution_count": 9,
   "id": "5c10636a",
   "metadata": {},
   "outputs": [],
   "source": [
    "#### Interagir com um botão de Datas\n",
    "## Preencher o valor\n",
    "driver.find_element(By.XPATH, '/html/body/form/input[6]').send_keys('14/03/1999')"
   ]
  },
  {
   "cell_type": "code",
   "execution_count": 10,
   "id": "b76a32b6",
   "metadata": {},
   "outputs": [
    {
     "name": "stdout",
     "output_type": "stream",
     "text": [
      "1999-03-14\n"
     ]
    }
   ],
   "source": [
    "## Pegar o valor\n",
    "valor = driver.find_element(By.XPATH, '/html/body/form/input[6]').get_attribute('value')\n",
    "print(valor)"
   ]
  },
  {
   "cell_type": "code",
   "execution_count": 11,
   "id": "89fa3c47",
   "metadata": {},
   "outputs": [],
   "source": [
    "#### Interagir com botão de Data e Hora\n",
    "## Preencher valor\n",
    "from selenium.webdriver.common.keys import Keys\n",
    "driver.find_element(By.XPATH, '/html/body/form/input[7]').send_keys('14/03/2015', Keys.TAB, '22:31')\n",
    "## IMPORTANTE ENTENDER QUE NO MEIO DA STRING ESTÁ TENDO UMA DIVISÃO DOS CAMPOS QUE SERIA UM TAB, PARA MUDAR PARA O CAMPO DA HORA\n",
    "## Um modo de preencher isso é importanto o Keys do Selenium, e utilizando ele no Send_Keys"
   ]
  },
  {
   "cell_type": "code",
   "execution_count": 12,
   "id": "00906f27",
   "metadata": {},
   "outputs": [
    {
     "name": "stdout",
     "output_type": "stream",
     "text": [
      "2015-03-14T22:31\n"
     ]
    }
   ],
   "source": [
    "## Pegar o valor\n",
    "valor = driver.find_element(By.XPATH, '/html/body/form/input[7]').get_attribute('value')\n",
    "print(valor)"
   ]
  },
  {
   "cell_type": "code",
   "execution_count": 13,
   "id": "1e50c751",
   "metadata": {},
   "outputs": [],
   "source": [
    "#### Anexar um arquivo\n",
    "## Preencher valor\n",
    "driver.find_element(By.XPATH, '/html/body/form/input[8]').send_keys(r'C:\\Users\\pm19020\\Downloads\\Validaçao mensal RPIC.xls')"
   ]
  },
  {
   "cell_type": "code",
   "execution_count": 14,
   "id": "a69defc8",
   "metadata": {},
   "outputs": [
    {
     "name": "stdout",
     "output_type": "stream",
     "text": [
      "C:\\fakepath\\Validaçao mensal RPIC.xls\n"
     ]
    }
   ],
   "source": [
    "## Pegar o valor\n",
    "valor = driver.find_element(By.XPATH, '/html/body/form/input[8]').get_attribute('value')\n",
    "print(valor)"
   ]
  },
  {
   "cell_type": "code",
   "execution_count": 15,
   "id": "6347f1ab",
   "metadata": {},
   "outputs": [],
   "source": [
    "#### Botão de seleção ês e Ano\n",
    "## Preencher valor\n",
    "driver.find_element(By.XPATH, '/html/body/form/input[9]').clear()\n",
    "driver.find_element(By.XPATH, '/html/body/form/input[9]').send_keys('janeiro', Keys.TAB, '1980')"
   ]
  },
  {
   "cell_type": "code",
   "execution_count": 16,
   "id": "8f49a537",
   "metadata": {},
   "outputs": [
    {
     "name": "stdout",
     "output_type": "stream",
     "text": [
      "1980-01\n"
     ]
    }
   ],
   "source": [
    "## Pegar valor\n",
    "valor = driver.find_element(By.XPATH, '/html/body/form/input[9]').get_attribute('value')\n",
    "print(valor)"
   ]
  },
  {
   "cell_type": "code",
   "execution_count": 17,
   "id": "4a5c512a",
   "metadata": {},
   "outputs": [],
   "source": [
    "#### Botão de campos numéricos\n",
    "## Preencher valor\n",
    "driver.find_element(By.XPATH, '/html/body/form/input[10]').clear() ## Limpar o campo antes de preencher ele\n",
    "driver.find_element(By.XPATH, '/html/body/form/input[10]').send_keys('123dsdss')\n",
    "## Notar que ao inserir texto, ele simplesmente nao digita os caracteres, apenas os numeros"
   ]
  },
  {
   "cell_type": "code",
   "execution_count": 18,
   "id": "0d012e11",
   "metadata": {},
   "outputs": [
    {
     "name": "stdout",
     "output_type": "stream",
     "text": [
      "123\n"
     ]
    }
   ],
   "source": [
    "## Pegar valor\n",
    "valor = driver.find_element(By.XPATH, '/html/body/form/input[10]').get_attribute('value')\n",
    "print(valor)"
   ]
  },
  {
   "cell_type": "code",
   "execution_count": 19,
   "id": "de2fa9dd",
   "metadata": {},
   "outputs": [],
   "source": [
    "#### Botão de senha\n",
    "## Preencher valor\n",
    "driver.find_element(By.XPATH, '/html/body/form/input[11]').send_keys('teste')"
   ]
  },
  {
   "cell_type": "code",
   "execution_count": 20,
   "id": "b297f780",
   "metadata": {},
   "outputs": [
    {
     "name": "stdout",
     "output_type": "stream",
     "text": [
      "teste\n"
     ]
    }
   ],
   "source": [
    "## Pegar valor\n",
    "valor = driver.find_element(By.XPATH, '/html/body/form/input[11]').get_attribute('value')\n",
    "print(valor)"
   ]
  },
  {
   "cell_type": "code",
   "execution_count": 21,
   "id": "9d85b52f",
   "metadata": {},
   "outputs": [],
   "source": [
    "#### Radio Buttons (Botão de multipla escolha)\n",
    "## Preencher valor\n",
    "driver.find_element(By.XPATH, '/html/body/form/input[14]').click()"
   ]
  },
  {
   "cell_type": "code",
   "execution_count": 22,
   "id": "52447b4c",
   "metadata": {},
   "outputs": [
    {
     "name": "stdout",
     "output_type": "stream",
     "text": [
      "False\n",
      "False\n",
      "True\n"
     ]
    }
   ],
   "source": [
    "## Pegar valor\n",
    "valor = driver.find_element(By.XPATH, '/html/body/form/input[12]').is_selected()\n",
    "print(valor)\n",
    "valor = driver.find_element(By.XPATH, '/html/body/form/input[13]').is_selected()\n",
    "print(valor)\n",
    "valor = driver.find_element(By.XPATH, '/html/body/form/input[14]').is_selected()\n",
    "print(valor)"
   ]
  },
  {
   "cell_type": "code",
   "execution_count": 27,
   "id": "dbc392e8",
   "metadata": {
    "scrolled": true
   },
   "outputs": [],
   "source": [
    "#### Modificar o valor de um slider\n",
    "## Preencher valor para que seja 70\n",
    "elemento = driver.find_element(By.XPATH, '/html/body/form/input[15]')\n",
    "elemento.clear()\n",
    "\n",
    "for i in range(70 - 50):\n",
    "    elemento.send_keys(Keys.ARROW_RIGHT)"
   ]
  },
  {
   "cell_type": "code",
   "execution_count": 29,
   "id": "42c48960",
   "metadata": {},
   "outputs": [
    {
     "name": "stdout",
     "output_type": "stream",
     "text": [
      "70\n"
     ]
    }
   ],
   "source": [
    "## Pegar o valor\n",
    "valor = driver.find_element(By.XPATH, '/html/body/form/input[15]').get_attribute('value')\n",
    "print(valor)"
   ]
  },
  {
   "cell_type": "code",
   "execution_count": null,
   "id": "68cfd245",
   "metadata": {},
   "outputs": [],
   "source": [
    "#### Botão de input normal\n",
    "## Preencher valor\n",
    "driver.find_element(By.XPATH, '/html/body/form/input[16]').send_keys('Vasco')"
   ]
  },
  {
   "cell_type": "code",
   "execution_count": null,
   "id": "abb87bab",
   "metadata": {},
   "outputs": [],
   "source": [
    "## Pegar o valor\n",
    "valor = driver.find_element(By.XPATH, '/html/body/form/input[16]').get_attribute('value')\n",
    "print(valor)"
   ]
  },
  {
   "cell_type": "code",
   "execution_count": null,
   "id": "eb90236a",
   "metadata": {},
   "outputs": [],
   "source": [
    "#### Botão de input de Horas\n",
    "## Preencher valor\n",
    "driver.find_element(By.XPATH, '/html/body/form/input[17]').clear()\n",
    "driver.find_element(By.XPATH, '/html/body/form/input[17]').send_keys('10:19')"
   ]
  },
  {
   "cell_type": "code",
   "execution_count": null,
   "id": "4e557853",
   "metadata": {},
   "outputs": [],
   "source": [
    "## Pegar o valor\n",
    "valor = driver.find_element(By.XPATH, '/html/body/form/input[17]').get_attribute('value')\n",
    "print(valor)"
   ]
  },
  {
   "cell_type": "code",
   "execution_count": null,
   "id": "4b72afa5",
   "metadata": {},
   "outputs": [],
   "source": [
    "#### Botão de input de Semana e ano\n",
    "## Preencher valor\n",
    "driver.find_element(By.XPATH, '/html/body/form/input[18]').clear()\n",
    "driver.find_element(By.XPATH, '/html/body/form/input[18]').send_keys('25', '2022')"
   ]
  },
  {
   "cell_type": "code",
   "execution_count": null,
   "id": "7b145dc0",
   "metadata": {},
   "outputs": [],
   "source": [
    "## Pegar o valor\n",
    "valor = driver.find_element(By.XPATH, '/html/body/form/input[18]').get_attribute('value')\n",
    "print(valor)"
   ]
  },
  {
   "cell_type": "code",
   "execution_count": null,
   "id": "72340388",
   "metadata": {},
   "outputs": [],
   "source": [
    "#### Campo de textos grandes\n",
    "## Preencher valor\n",
    "driver.find_element(By.XPATH, '//*[@id=\"story\"]').clear()\n",
    "driver.find_element(By.XPATH, '//*[@id=\"story\"]').send_keys('Olá', Keys.ENTER, 'Meu nome é Math', Keys.ENTER, 'Valeu, tmj')"
   ]
  },
  {
   "cell_type": "code",
   "execution_count": null,
   "id": "410eead0",
   "metadata": {},
   "outputs": [],
   "source": [
    "## Preencher valor 2:\n",
    "driver.find_element(By.XPATH, '//*[@id=\"story\"]').clear()\n",
    "driver.find_element(By.XPATH, '//*[@id=\"story\"]').send_keys('''Olá\n",
    "Meu nome é Math\n",
    "Valeu, tmj''')"
   ]
  },
  {
   "cell_type": "code",
   "execution_count": 30,
   "id": "5034114e",
   "metadata": {},
   "outputs": [],
   "source": [
    "#### Campos de DropDown (Listas)\n",
    "## Preencher valores\n",
    "## Modo 1: Preencher com Send_keys\n",
    "driver.find_element(By.XPATH, '/html/body/form/select[1]').send_keys('C')"
   ]
  },
  {
   "cell_type": "code",
   "execution_count": 40,
   "id": "9b1f21a4",
   "metadata": {},
   "outputs": [],
   "source": [
    "## Modo 2: clicar no elemento direto\n",
    "driver.find_element(By.XPATH, '/html/body/form/select[1]/option[2]').click()"
   ]
  },
  {
   "cell_type": "code",
   "execution_count": 39,
   "id": "3b866d94",
   "metadata": {},
   "outputs": [],
   "source": [
    "## Modo 3: clicar na caixa do elemento, e depois na opção desejada\n",
    "import time\n",
    "driver.find_element(By.XPATH, '/html/body/form/select[1]').click()\n",
    "time.sleep(0.5)\n",
    "driver.find_element(By.XPATH, '/html/body/form/select[1]/option[3]').click()"
   ]
  },
  {
   "cell_type": "code",
   "execution_count": 46,
   "id": "0e02f2f5",
   "metadata": {},
   "outputs": [],
   "source": [
    "## Modo 4: Utilizando o a biblioeca do Selenium com o Select\n",
    "# https://www.selenium.dev/pt-br/documentation/webdriver/elements/select_lists/\n",
    "from selenium.webdriver.support.select import Select\n",
    "\n",
    "# Selecionar pelo Indice\n",
    "elemento = driver.find_element(By.TAG_NAME, 'select') # Guardar o elemento a ser modifica em uma variavel\n",
    "elemento_select = Select(elemento) # Transformar o elemento em um objeto Select\n",
    "elemento_select.select_by_index(2) # Clicar no elemento a aprtir do seu índice (Começa por 0)"
   ]
  },
  {
   "cell_type": "code",
   "execution_count": 48,
   "id": "c456ed40",
   "metadata": {},
   "outputs": [],
   "source": [
    "# Selecionar pelo Valor\n",
    "elemento = driver.find_element(By.TAG_NAME, 'select') # Guardar o elemento a ser modifica em uma variavel\n",
    "elemento_select = Select(elemento) # Transformar o elemento em um objeto Select\n",
    "elemento_select.select_by_value('b') # Clicar no elemento a aprtir do seu índice (Começa por 0)"
   ]
  },
  {
   "cell_type": "code",
   "execution_count": 49,
   "id": "f2c7d684",
   "metadata": {},
   "outputs": [],
   "source": [
    "# Selecionar pelo Texto que aparece para o usuário\n",
    "elemento = driver.find_element(By.TAG_NAME, 'select') # Guardar o elemento a ser modifica em uma variavel\n",
    "elemento_select = Select(elemento) # Transformar o elemento em um objeto Select\n",
    "elemento_select.select_by_visible_text('C') # Clicar no elemento a aprtir do seu índice (Começa por 0)"
   ]
  },
  {
   "cell_type": "code",
   "execution_count": 31,
   "id": "7de05785",
   "metadata": {},
   "outputs": [
    {
     "name": "stdout",
     "output_type": "stream",
     "text": [
      "c\n"
     ]
    }
   ],
   "source": [
    "valor = driver.find_element(By.XPATH, '/html/body/form/select[1]').get_attribute('value')\n",
    "print(valor)"
   ]
  },
  {
   "cell_type": "code",
   "execution_count": 56,
   "id": "10e769a6",
   "metadata": {},
   "outputs": [
    {
     "name": "stdout",
     "output_type": "stream",
     "text": [
      "c\n",
      "c\n",
      "C\n"
     ]
    }
   ],
   "source": [
    "#### Ler o item selecionado a partir do Select\n",
    "# Mostra o primeiro ELEMENTO selecionado\n",
    "item = elemento_select.first_selected_option\n",
    "print(item.get_attribute('value')) #Printa o atributo value do item\n",
    "\n",
    "# Mostra TODOS os elementos selecionados da lista\n",
    "lista_itens = elemento_select.all_selected_options\n",
    "for item in lista_itens:\n",
    "    print(item.get_attribute('value')) ## Mostra o Value daquele item\n",
    "    \n",
    "lista_itens = elemento_select.all_selected_options\n",
    "for item in lista_itens:\n",
    "    print(item.text) ## Mostra o texto que aparece para o usuário daquele item"
   ]
  }
 ],
 "metadata": {
  "kernelspec": {
   "display_name": "Python 3 (ipykernel)",
   "language": "python",
   "name": "python3"
  },
  "language_info": {
   "codemirror_mode": {
    "name": "ipython",
    "version": 3
   },
   "file_extension": ".py",
   "mimetype": "text/x-python",
   "name": "python",
   "nbconvert_exporter": "python",
   "pygments_lexer": "ipython3",
   "version": "3.9.8"
  }
 },
 "nbformat": 4,
 "nbformat_minor": 5
}
